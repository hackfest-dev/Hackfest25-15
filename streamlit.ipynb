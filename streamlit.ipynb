{
 "cells": [
  {
   "cell_type": "code",
   "execution_count": 5,
   "id": "34546759-7830-4927-aad1-c3423d564374",
   "metadata": {},
   "outputs": [
    {
     "name": "stdout",
     "output_type": "stream",
     "text": [
      "✅ Frontend (Streamlit app) created.\n"
     ]
    }
   ],
   "source": [
    "frontend_code = \"\"\"\n",
    "import streamlit as st\n",
    "import numpy as np\n",
    "from ecg_backend import load_classifier_model, preprocess_ecg\n",
    "\n",
    "st.title(\"Arrhythmia Detection from ECG\")\n",
    "st.markdown(\"Upload a .npy ECG file to detect if the signal is Normal or shows Arrhythmia.\")\n",
    "\n",
    "uploaded_file = st.file_uploader(\"Upload ECG (.npy format)\", type=['npy'])\n",
    "\n",
    "if uploaded_file is not None:\n",
    "    try:\n",
    "        ecg_input = preprocess_ecg(uploaded_file)\n",
    "        model = load_classifier_model()\n",
    "        prediction = model.predict(ecg_input)\n",
    "        \n",
    "        if prediction[0] == 0:\n",
    "            st.success(\"✅ Prediction: Normal ECG\")\n",
    "        elif prediction[0] == 1:\n",
    "            st.error(\"⚠️ Prediction: Arrhythmia Detected\")\n",
    "        else:\n",
    "            st.warning(f\"Prediction: Class {prediction[0]}\")\n",
    "    \n",
    "    except Exception as e:\n",
    "        st.error(f\"Error processing the ECG: {e}\")\n",
    "\"\"\"\n",
    "\n",
    "with open(\"app.py\", \"w\", encoding=\"utf-8\") as f:\n",
    "    f.write(frontend_code)\n",
    "\n",
    "print(\"✅ Frontend (Streamlit app) created.\")\n"
   ]
  },
  {
   "cell_type": "code",
   "execution_count": null,
   "id": "7c7af95d-154c-4c8d-bb48-e995d882f6bf",
   "metadata": {},
   "outputs": [],
   "source": [
    "!streamlit run app.py\n"
   ]
  },
  {
   "cell_type": "code",
   "execution_count": null,
   "id": "9fe40ee8-16bc-4847-a6d0-92c37d0a4301",
   "metadata": {},
   "outputs": [],
   "source": []
  }
 ],
 "metadata": {
  "kernelspec": {
   "display_name": "Python 3 (ipykernel)",
   "language": "python",
   "name": "python3"
  },
  "language_info": {
   "codemirror_mode": {
    "name": "ipython",
    "version": 3
   },
   "file_extension": ".py",
   "mimetype": "text/x-python",
   "name": "python",
   "nbconvert_exporter": "python",
   "pygments_lexer": "ipython3",
   "version": "3.12.7"
  }
 },
 "nbformat": 4,
 "nbformat_minor": 5
}
